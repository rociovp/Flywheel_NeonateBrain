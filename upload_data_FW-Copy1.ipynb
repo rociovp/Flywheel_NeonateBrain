{
 "cells": [
  {
   "cell_type": "code",
   "execution_count": null,
   "id": "b03a78cf",
   "metadata": {},
   "outputs": [],
   "source": [
    "# Import packages\n",
    "from getpass import getpass\n",
    "import logging\n",
    "import os\n",
    "from pathlib import Path\n",
    "import re\n",
    "import time\n",
    "from IPython.display import display, Image\n",
    "import flywheel"
   ]
  },
  {
   "cell_type": "code",
   "execution_count": null,
   "id": "984f0177",
   "metadata": {},
   "outputs": [],
   "source": [
    "# Instantiate a logger\n",
    "logging.basicConfig(level=logging.INFO, format='%(asctime)s %(levelname)s %(message)s')\n",
    "log = logging.getLogger('root')"
   ]
  },
  {
   "cell_type": "code",
   "execution_count": null,
   "id": "2bc57b28",
   "metadata": {},
   "outputs": [],
   "source": [
    "project_id = '5eafb9fd788701016978097d'\n",
    "fw = flywheel.Client('')\n",
    "project = fw.get_project(project_id)"
   ]
  },
  {
   "cell_type": "code",
   "execution_count": null,
   "id": "133847ef",
   "metadata": {},
   "outputs": [],
   "source": [
    "def upload_file_to_acquistion(acquistion, fp, update=True, **kwargs):\n",
    "    \"\"\"Upload file to Acquisition container and update info if `update=True`\n",
    "    \n",
    "    Args:\n",
    "        acquisition (flywheel.Acquisition): A Flywheel Acquisition\n",
    "        fp (Path-like): Path to file to upload\n",
    "        update (bool): If true, update container with key/value passed as kwargs.        \n",
    "        kwargs (dict): Any key/value properties of Acquisition you would like to update.        \n",
    "    \"\"\"\n",
    "    basename = os.path.basename(fp)\n",
    "    if not os.path.isfile(fp):\n",
    "        raise ValueError(f'{fp} is not file.')\n",
    "        \n",
    "    if acquistion.get_file(basename):\n",
    "        log.info(f'File {basename} already exists in container. Skipping.')\n",
    "        return\n",
    "    else:\n",
    "        log.info(f'Uploading {fp} to acquisition {acquistion.id}')\n",
    "        acquistion.upload_file(fp)\n",
    "        while not acquistion.get_file(basename):   # to make sure the file is available before performing an update\n",
    "            acquistion = acquistion.reload()\n",
    "            time.sleep(1)\n",
    "            \n",
    "    if update and kwargs:\n",
    "        f = acquisition.get_file(basename)\n",
    "        f.update(**kwargs)\n",
    "        \n"
   ]
  },
  {
   "cell_type": "code",
   "execution_count": null,
   "id": "90945293",
   "metadata": {},
   "outputs": [],
   "source": [
    "PATH_TO_DATA = Path('/')\n"
   ]
  },
  {
   "cell_type": "code",
   "execution_count": null,
   "id": "7be48a3c",
   "metadata": {},
   "outputs": [],
   "source": [
    "files_to_upload = list(PATH_TO_DATA.rglob('fs.zip'))\n",
    "dl = '\\n'\n",
    "print(f'Files to upload: \\n{dl.join(map(str, files_to_upload))}')"
   ]
  },
  {
   "cell_type": "code",
   "execution_count": null,
   "id": "e5af702a",
   "metadata": {},
   "outputs": [],
   "source": [
    "files_to_upload\n",
    "\n",
    "subjects_id=[p.parts[5] for p in files_to_upload]"
   ]
  },
  {
   "cell_type": "code",
   "execution_count": null,
   "id": "a76a3e03",
   "metadata": {},
   "outputs": [],
   "source": [
    "def get_or_create_subject(project, label, update=True, **kwargs):\n",
    "    \"\"\"Get the Subject container if it exists, else create a new Subject container.\n",
    "    \n",
    "    Args:\n",
    "        project (flywheel.Project): A Flywheel Project.\n",
    "        label (str): The subject label.\n",
    "        update (bool): If true, update container with key/value passed as kwargs.\n",
    "        kwargs (dict): Any key/value properties of subject you would like to update.\n",
    "\n",
    "    Returns:\n",
    "        (flywheel.Subject): A Flywheel Subject container.\n",
    "    \"\"\"\n",
    "    \n",
    "    if not label:\n",
    "        raise ValueError(f'label is required (currently {label})')\n",
    "        \n",
    "    subject = project.subjects.find_first(f\"label='{label}'\")\n",
    "    if not subject:\n",
    "        subject = project.add_subject(label=label)\n",
    "        \n",
    "    if update and kwargs:\n",
    "        subject.update(**kwargs)\n",
    "\n",
    "    if subject:\n",
    "        subject = subject.reload()\n",
    "\n",
    "    return subject"
   ]
  },
  {
   "cell_type": "code",
   "execution_count": null,
   "id": "65ae1482",
   "metadata": {},
   "outputs": [],
   "source": [
    " def get_or_create_acquisition(session, label, update=True, **kwargs):  \n",
    "    \"\"\"Get the Acquisition container if it exists, else create a new Acquisition container.\n",
    "    \n",
    "    Args:\n",
    "        session (flywheel.Session): A Flywheel Session.\n",
    "        label (str): The Acquisition label.\n",
    "        update (bool): If true, update container with key/value passed as kwargs.        \n",
    "        kwargs (dict): Any key/value properties of Acquisition you would like to update.\n",
    "\n",
    "    Returns:\n",
    "        (flywheel.Acquisition): A Flywheel Acquisition container.\n",
    "    \"\"\"\n",
    "    \n",
    "    if not label:\n",
    "        raise ValueError(f'label is required (currently {label})')\n",
    "        \n",
    "    acquisition = session.acquisitions.find_first(f'label={label}')\n",
    "    if not acquisition:\n",
    "        acquisition = session.add_acquisition(label=label)\n",
    "        \n",
    "    if update and kwargs:\n",
    "        acquisition.update(**kwargs)\n",
    "\n",
    "    if acquisition:\n",
    "        acquisition = acquisition.reload()\n",
    "\n",
    "    return acquisition\n"
   ]
  },
  {
   "cell_type": "code",
   "execution_count": null,
   "id": "81e8e878",
   "metadata": {},
   "outputs": [],
   "source": [
    "def upload_file_to_acquistion(acquistion, fp, update=True, **kwargs):\n",
    "    \"\"\"Upload file to Acquisition container and update info if `update=True`\n",
    "    \n",
    "    Args:\n",
    "        acquisition (flywheel.Acquisition): A Flywheel Acquisition\n",
    "        fp (Path-like): Path to file to upload\n",
    "        update (bool): If true, update container with key/value passed as kwargs.        \n",
    "        kwargs (dict): Any key/value properties of Acquisition you would like to update.        \n",
    "    \"\"\"\n",
    "    basename = os.path.basename(fp)\n",
    "    if not os.path.isfile(fp):\n",
    "        raise ValueError(f'{fp} is not file.')\n",
    "        \n",
    "    if acquistion.get_file(basename):\n",
    "        log.info(f'File {basename} already exists in container. Skipping.')\n",
    "        return\n",
    "    else:\n",
    "        log.info(f'Uploading {fp} to acquisition {acquistion.id}')\n",
    "        acquistion.upload_file(fp)\n",
    "        while not acquistion.get_file(basename):   # to make sure the file is available before performing an update\n",
    "            acquistion = acquistion.reload()\n",
    "            time.sleep(1)\n",
    "            \n",
    "    if update and kwargs:\n",
    "        f = acquisition.get_file(basename)\n",
    "        f.update(**kwargs)\n"
   ]
  },
  {
   "cell_type": "code",
   "execution_count": null,
   "id": "a786aba7",
   "metadata": {},
   "outputs": [],
   "source": [
    "log.info('Starting upload...')\n",
    "for subj in subjects_id:\n",
    "    log.info('Processing subject %s', str(subj))\n",
    "    subject = get_or_create_subject(project, subj, update=False,)  # passing some value for the sake of the example\n",
    "    print(f'{subject.sessions}')\n",
    "#     #for ses in subj.glob('anx*'):\n",
    "#         log.info('Processing session %s', str(ses))\n",
    "#         session = get_or_create_session(subject, ses.name)\n",
    "#         for acq in ses.glob('T1*'):            \n",
    "#             log.info('Processing acquisition %s', str(acq))            \n",
    "#             acquisition = get_or_create_acquisition(session, acq.name)\n",
    "#             for file in acq.glob('*.dcm.zip'):\n",
    "#                 upload_file_to_acquistion(acquisition, file)\n",
    "# log.info('DONE')"
   ]
  },
  {
   "cell_type": "code",
   "execution_count": null,
   "id": "c1937220",
   "metadata": {},
   "outputs": [],
   "source": [
    "project.subjects"
   ]
  },
  {
   "cell_type": "code",
   "execution_count": null,
   "id": "6779fa33",
   "metadata": {},
   "outputs": [],
   "source": [
    "project.subjects.find(\"label='18112'\")"
   ]
  },
  {
   "cell_type": "code",
   "execution_count": null,
   "id": "2ea09375",
   "metadata": {},
   "outputs": [],
   "source": [
    "# Hard code the session to pick if there are multiple sessions for a subject\n",
    "subject_to_session_map = {\n",
    "    # The syntax here is subject_label: session_label\n",
    "    \"18112\": \"18112\",\n",
    "}"
   ]
  },
  {
   "cell_type": "code",
   "execution_count": null,
   "id": "0662d7b1",
   "metadata": {},
   "outputs": [],
   "source": [
    "subjects_in_project = project.subjects()\n",
    "print(f\"{len(subjects_in_project)} Subjects found\")\n",
    "for subject in subjects_in_project:\n",
    "    if subject.label in subjects_id:\n",
    "        print(f\"\\tsubject label = {subject.label}\")\n",
    "        \n",
    "        if (len(subject.sessions()) > 1):\n",
    "            session = [ses for ses in subject.sessions() if ses.label == subject_to_session_map[subject.label]][0]\n",
    "        else:\n",
    "            session = subject.sessions()[0]\n",
    "            \n",
    "        print(f\"\\t\\tsession label = {session.label}\")\n",
    "        t1_acq = [acq for acq in session.acquisitions() if acq.label == \"t1\"][0]\n",
    "        print(f\"\\t\\t\\tFound acquisition {t1_acq.label}\")"
   ]
  },
  {
   "cell_type": "code",
   "execution_count": null,
   "id": "767cfb49",
   "metadata": {},
   "outputs": [],
   "source": []
  }
 ],
 "metadata": {
  "kernelspec": {
   "display_name": "Python 3 (ipykernel)",
   "language": "python",
   "name": "python3"
  },
  "language_info": {
   "codemirror_mode": {
    "name": "ipython",
    "version": 3
   },
   "file_extension": ".py",
   "mimetype": "text/x-python",
   "name": "python",
   "nbconvert_exporter": "python",
   "pygments_lexer": "ipython3",
   "version": "3.9.5"
  }
 },
 "nbformat": 4,
 "nbformat_minor": 5
}
